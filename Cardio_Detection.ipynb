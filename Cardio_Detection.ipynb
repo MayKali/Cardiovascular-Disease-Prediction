{
  "nbformat": 4,
  "nbformat_minor": 0,
  "metadata": {
    "colab": {
      "name": "Untitled0.ipynb",
      "provenance": []
    },
    "kernelspec": {
      "name": "python3",
      "display_name": "Python 3"
    }
  },
  "cells": [
    {
      "cell_type": "markdown",
      "metadata": {
        "id": "DK8rxqya-63p",
        "colab_type": "text"
      },
      "source": [
        "This program uses the scikit learn library to classify someone as either having a cardiovascular problem or not.\n"
      ]
    },
    {
      "cell_type": "code",
      "metadata": {
        "id": "PDe1owpA-_9Z",
        "colab_type": "code",
        "colab": {}
      },
      "source": [
        "# Installs and Inputs needed\n",
        "\n",
        "import numpy as np\n",
        "import pandas as pd\n",
        "import seaborn as sns\n",
        "import matplotlib.pyplot as plt \n",
        "from sklearn.model_selection import train_test_split\n",
        "from sklearn.preprocessing import StandardScaler\n",
        "from sklearn.metrics import confusion_matrix\n",
        "from sklearn.ensemble import RandomForestClassifier"
      ],
      "execution_count": null,
      "outputs": []
    },
    {
      "cell_type": "code",
      "metadata": {
        "id": "7uJNb8Jk_DY_",
        "colab_type": "code",
        "colab": {}
      },
      "source": [
        "# Load Cancer Data - The dataset can be found under README\n",
        "\n",
        "from google.colab import files\n",
        "uploaded = files.upload()"
      ],
      "execution_count": null,
      "outputs": []
    },
    {
      "cell_type": "code",
      "metadata": {
        "id": "NnVNHZniArfe",
        "colab_type": "code",
        "colab": {}
      },
      "source": [
        "# Store the data into a variable called dataset\n",
        "\n",
        "dataset = pd.read_csv('cardio.csv')\n",
        "\n",
        "# Prints the first 7 rows of data to verify that it is working \n",
        "# It should display a table, if you see semicolons, refer to README under\n",
        "# Note for the solution\n",
        "\n",
        "dataset.head(7)"
      ],
      "execution_count": null,
      "outputs": []
    },
    {
      "cell_type": "code",
      "metadata": {
        "id": "ArX_Q18LBB_r",
        "colab_type": "code",
        "colab": {}
      },
      "source": [
        "# Get the shape of the data\n",
        "# It should return (70000, 13), if it displays (70000,1), refer to the above \n",
        "# CODEBLOCK for the fix.\n",
        "\n",
        "dataset.shape"
      ],
      "execution_count": null,
      "outputs": []
    },
    {
      "cell_type": "code",
      "metadata": {
        "id": "I02hwzT9BTYP",
        "colab_type": "code",
        "colab": {}
      },
      "source": [
        "# In the event that the dataset updates \n",
        "# Check for any null or missing values in your dataset\n",
        "# Should return False - 7/14/2020\n",
        "\n",
        "dataset.isnull().values.any()\n"
      ],
      "execution_count": null,
      "outputs": []
    },
    {
      "cell_type": "code",
      "metadata": {
        "id": "xSjdPC1TBn9k",
        "colab_type": "code",
        "colab": {}
      },
      "source": [
        "# Displays some basic statistics using the Panda library\n",
        "\n",
        "dataset.describe()"
      ],
      "execution_count": null,
      "outputs": []
    },
    {
      "cell_type": "code",
      "metadata": {
        "id": "iohO3DMPB5lO",
        "colab_type": "code",
        "colab": {}
      },
      "source": [
        "# Returns the count of people with cardiovascular disease (1) and without (0)\n",
        "dataset['cardio'].value_counts()"
      ],
      "execution_count": null,
      "outputs": []
    },
    {
      "cell_type": "code",
      "metadata": {
        "id": "RanwKFYLCUTQ",
        "colab_type": "code",
        "colab": {}
      },
      "source": [
        "# Creates a years column \n",
        "\n",
        "dataset['years'] = (dataset['age']/365).round(0)\n",
        "\n",
        "# Converts the years column into an integer\n",
        "\n",
        "dataset['years'] = pd.to_numeric(dataset['years'], downcast = 'integer')\n",
        "\n",
        "# Visualize the data using a colorblind palette\n",
        "sns.countplot(x= 'years', hue= 'cardio', data= dataset, palette= 'colorblind', edgecolor= sns.color_palette('dark', n_colors = 1))"
      ],
      "execution_count": null,
      "outputs": []
    },
    {
      "cell_type": "code",
      "metadata": {
        "id": "dOsGG-DoCyLw",
        "colab_type": "code",
        "colab": {}
      },
      "source": [
        "# Prepare data for machine learning - Removes the years column as its redundant\n",
        "#                                   - Removes the ID column as its pointless\n",
        "dataset = dataset.drop('years', axis=1)\n",
        "dataset = dataset.drop('id', axis=1)"
      ],
      "execution_count": null,
      "outputs": []
    },
    {
      "cell_type": "code",
      "metadata": {
        "id": "vNUHLJFADDI_",
        "colab_type": "code",
        "colab": {}
      },
      "source": [
        "# Returns the correlation\n",
        "\n",
        "dataset.corr()"
      ],
      "execution_count": null,
      "outputs": []
    },
    {
      "cell_type": "code",
      "metadata": {
        "id": "JktFblSwDNFX",
        "colab_type": "code",
        "colab": {}
      },
      "source": [
        "# Visualizes this correlation using a heatmap\n",
        "\n",
        "plt.figure(figsize=(7,7))\n",
        "sns.heatmap(dataset.corr(), annot= True, fmt= '.0%')"
      ],
      "execution_count": null,
      "outputs": []
    },
    {
      "cell_type": "code",
      "metadata": {
        "id": "sK7ywC2UDbKT",
        "colab_type": "code",
        "colab": {}
      },
      "source": [
        "# Splits the data into feature data and target data\n",
        "# Target: Is the output of the data, in this whether someone suffers from heart diseases\n",
        "# Features: Is the input data, in this case the attributes collected from the patients\n",
        "\n",
        "# Takes in all the attributes except for the Cardio column\n",
        "x = dataset.iloc[:, :-1].values\n",
        "# Takes the Cardio column\n",
        "y = dataset.iloc[:, -1].values"
      ],
      "execution_count": 33,
      "outputs": []
    },
    {
      "cell_type": "code",
      "metadata": {
        "id": "i0kWFg4dEjs6",
        "colab_type": "code",
        "colab": {}
      },
      "source": [
        "# Splits the data into 75:25 Training:Testing\n",
        "\n",
        "# This is so that we can later on test whether our machine learning technique was accurate or not \n",
        "x_train, x_test, y_train, y_test = train_test_split(x, y, test_size= 0.25, random_state = 1)"
      ],
      "execution_count": 34,
      "outputs": []
    },
    {
      "cell_type": "code",
      "metadata": {
        "id": "8MhpUW94FCmq",
        "colab_type": "code",
        "colab": {}
      },
      "source": [
        "# Feature Scaling \n",
        "# Normalizes the values so that one data point doesn't have too much power over the rest.\n",
        "\n",
        "sc = StandardScaler()\n",
        "\n",
        "x_train = sc.fit_transform(x_train)\n",
        "x_test = sc.transform(x_test)"
      ],
      "execution_count": 35,
      "outputs": []
    },
    {
      "cell_type": "code",
      "metadata": {
        "id": "audc1xBLFH-u",
        "colab_type": "code",
        "colab": {}
      },
      "source": [
        "# Employs the Random forest classifier\n",
        "# Why: - Scalable\n",
        "#      - Resists overfitting\n",
        "\n",
        "forest = RandomForestClassifier(n_estimators= 10, criterion= 'entropy', random_state= 1)\n",
        "forest.fit(x_train, y_train)"
      ],
      "execution_count": null,
      "outputs": []
    },
    {
      "cell_type": "code",
      "metadata": {
        "id": "CoEnt1eNGm5u",
        "colab_type": "code",
        "colab": {}
      },
      "source": [
        "# Test the accuracy of the model on the training dataset - 97.9% Accurate\n",
        "\n",
        "model = forest\n",
        "model.score(x_train, y_train)"
      ],
      "execution_count": null,
      "outputs": []
    },
    {
      "cell_type": "code",
      "metadata": {
        "id": "SmIHbfySGrHT",
        "colab_type": "code",
        "colab": {}
      },
      "source": [
        "# Test the accuracy of the model on the testing dataset - 97.9% Accurate\n",
        "cm = confusion_matrix(y_test, model.predict(x_test))\n",
        "\n",
        "tn = cm[0][0] #True Negative\n",
        "tp = cm[1][1] #True Positive\n",
        "fn = cm[1][0] #False Negative\n",
        "fp = cm[0][1] #False Positive\n",
        "\n",
        "# Print the confusion matrix\n",
        "print(cm)\n",
        "\n",
        "#Print models accuracy on test data - 70.2% Accurate\n",
        "print('Model Test Accuracy = {}'.format((tp+tn)/(tp+tn+fn+fp)))"
      ],
      "execution_count": null,
      "outputs": []
    }
  ]
}